{
 "cells": [
  {
   "cell_type": "markdown",
   "metadata": {
    "colab_type": "text",
    "id": "view-in-github"
   },
   "source": [
    "<a href=\"https://colab.research.google.com/github/NoeliaEch/IA2022_Noe/blob/main/Inteligencia_Artificial_Intro_Librerias.ipynb\" target=\"_parent\"><img src=\"https://colab.research.google.com/assets/colab-badge.svg\" alt=\"Open In Colab\"/></a>"
   ]
  },
  {
   "cell_type": "markdown",
   "metadata": {
    "id": "-BUIxMGstvYC"
   },
   "source": [
    "<img src=\"https://user-images.githubusercontent.com/7065401/52071927-c1cd7100-2562-11e9-908a-dde91ba14e59.png\" width = 600>\n",
    "\n",
    "# **Librerias para ML**\n",
    "\n",
    "## **Autora:** Noe  👻  👻 \n",
    "\n",
    "<img src=\"https://user-images.githubusercontent.com/7065401/52071927-c1cd7100-2562-11e9-908a-dde91ba14e59.png\" width = 600>\n",
    "\n",
    "### En esta notebook vamos a ver brevemente algunas librerias utilizadas en ML\n",
    "\n",
    "<img src=\"https://user-images.githubusercontent.com/7065401/52071927-c1cd7100-2562-11e9-908a-dde91ba14e59.png\" width = 600>\n",
    "\n",
    "* Numpy\n",
    "* Matplotlib\n",
    "* Seaborn\n",
    "* Scikit Learn\n",
    "\n",
    "<img src=\"https://user-images.githubusercontent.com/7065401/52071927-c1cd7100-2562-11e9-908a-dde91ba14e59.png\" width = 600>\n",
    "\n",
    "## Numpy: Numerical Python\n",
    "\n",
    "Vamos a importar la libreria y a crear algunos arrays.\n",
    "\n",
    "\n",
    "\n",
    "<img src=\"https://user-images.githubusercontent.com/7065401/52071927-c1cd7100-2562-11e9-908a-dde91ba14e59.png\" width = 600>"
   ]
  },
  {
   "cell_type": "code",
   "execution_count": 1,
   "metadata": {
    "id": "jX8Nd1JWtu_b"
   },
   "outputs": [],
   "source": [
    "import numpy as np"
   ]
  },
  {
   "cell_type": "code",
   "execution_count": 2,
   "metadata": {
    "colab": {
     "base_uri": "https://localhost:8080/",
     "height": 300
    },
    "id": "4Ht4obS6mUu5",
    "outputId": "f20f1e86-b6b7-4ce1-bb02-5952b42ebd06"
   },
   "outputs": [
    {
     "data": {
      "text/html": [
       "<div>\n",
       "<style scoped>\n",
       "    .dataframe tbody tr th:only-of-type {\n",
       "        vertical-align: middle;\n",
       "    }\n",
       "\n",
       "    .dataframe tbody tr th {\n",
       "        vertical-align: top;\n",
       "    }\n",
       "\n",
       "    .dataframe thead th {\n",
       "        text-align: right;\n",
       "    }\n",
       "</style>\n",
       "<table border=\"1\" class=\"dataframe\">\n",
       "  <thead>\n",
       "    <tr style=\"text-align: right;\">\n",
       "      <th></th>\n",
       "      <th>#</th>\n",
       "      <th>Total</th>\n",
       "      <th>HP</th>\n",
       "      <th>Attack</th>\n",
       "      <th>Defense</th>\n",
       "      <th>Sp. Atk</th>\n",
       "      <th>Sp. Def</th>\n",
       "      <th>Speed</th>\n",
       "      <th>Generation</th>\n",
       "    </tr>\n",
       "  </thead>\n",
       "  <tbody>\n",
       "    <tr>\n",
       "      <th>count</th>\n",
       "      <td>800.000000</td>\n",
       "      <td>800.00000</td>\n",
       "      <td>800.000000</td>\n",
       "      <td>800.000000</td>\n",
       "      <td>800.000000</td>\n",
       "      <td>800.000000</td>\n",
       "      <td>800.000000</td>\n",
       "      <td>800.000000</td>\n",
       "      <td>800.00000</td>\n",
       "    </tr>\n",
       "    <tr>\n",
       "      <th>mean</th>\n",
       "      <td>362.813750</td>\n",
       "      <td>435.10250</td>\n",
       "      <td>69.258750</td>\n",
       "      <td>79.001250</td>\n",
       "      <td>73.842500</td>\n",
       "      <td>72.820000</td>\n",
       "      <td>71.902500</td>\n",
       "      <td>68.277500</td>\n",
       "      <td>3.32375</td>\n",
       "    </tr>\n",
       "    <tr>\n",
       "      <th>std</th>\n",
       "      <td>208.343798</td>\n",
       "      <td>119.96304</td>\n",
       "      <td>25.534669</td>\n",
       "      <td>32.457366</td>\n",
       "      <td>31.183501</td>\n",
       "      <td>32.722294</td>\n",
       "      <td>27.828916</td>\n",
       "      <td>29.060474</td>\n",
       "      <td>1.66129</td>\n",
       "    </tr>\n",
       "    <tr>\n",
       "      <th>min</th>\n",
       "      <td>1.000000</td>\n",
       "      <td>180.00000</td>\n",
       "      <td>1.000000</td>\n",
       "      <td>5.000000</td>\n",
       "      <td>5.000000</td>\n",
       "      <td>10.000000</td>\n",
       "      <td>20.000000</td>\n",
       "      <td>5.000000</td>\n",
       "      <td>1.00000</td>\n",
       "    </tr>\n",
       "    <tr>\n",
       "      <th>25%</th>\n",
       "      <td>184.750000</td>\n",
       "      <td>330.00000</td>\n",
       "      <td>50.000000</td>\n",
       "      <td>55.000000</td>\n",
       "      <td>50.000000</td>\n",
       "      <td>49.750000</td>\n",
       "      <td>50.000000</td>\n",
       "      <td>45.000000</td>\n",
       "      <td>2.00000</td>\n",
       "    </tr>\n",
       "    <tr>\n",
       "      <th>50%</th>\n",
       "      <td>364.500000</td>\n",
       "      <td>450.00000</td>\n",
       "      <td>65.000000</td>\n",
       "      <td>75.000000</td>\n",
       "      <td>70.000000</td>\n",
       "      <td>65.000000</td>\n",
       "      <td>70.000000</td>\n",
       "      <td>65.000000</td>\n",
       "      <td>3.00000</td>\n",
       "    </tr>\n",
       "    <tr>\n",
       "      <th>75%</th>\n",
       "      <td>539.250000</td>\n",
       "      <td>515.00000</td>\n",
       "      <td>80.000000</td>\n",
       "      <td>100.000000</td>\n",
       "      <td>90.000000</td>\n",
       "      <td>95.000000</td>\n",
       "      <td>90.000000</td>\n",
       "      <td>90.000000</td>\n",
       "      <td>5.00000</td>\n",
       "    </tr>\n",
       "    <tr>\n",
       "      <th>max</th>\n",
       "      <td>721.000000</td>\n",
       "      <td>780.00000</td>\n",
       "      <td>255.000000</td>\n",
       "      <td>190.000000</td>\n",
       "      <td>230.000000</td>\n",
       "      <td>194.000000</td>\n",
       "      <td>230.000000</td>\n",
       "      <td>180.000000</td>\n",
       "      <td>6.00000</td>\n",
       "    </tr>\n",
       "  </tbody>\n",
       "</table>\n",
       "</div>"
      ],
      "text/plain": [
       "                #      Total          HP      Attack     Defense     Sp. Atk  \\\n",
       "count  800.000000  800.00000  800.000000  800.000000  800.000000  800.000000   \n",
       "mean   362.813750  435.10250   69.258750   79.001250   73.842500   72.820000   \n",
       "std    208.343798  119.96304   25.534669   32.457366   31.183501   32.722294   \n",
       "min      1.000000  180.00000    1.000000    5.000000    5.000000   10.000000   \n",
       "25%    184.750000  330.00000   50.000000   55.000000   50.000000   49.750000   \n",
       "50%    364.500000  450.00000   65.000000   75.000000   70.000000   65.000000   \n",
       "75%    539.250000  515.00000   80.000000  100.000000   90.000000   95.000000   \n",
       "max    721.000000  780.00000  255.000000  190.000000  230.000000  194.000000   \n",
       "\n",
       "          Sp. Def       Speed  Generation  \n",
       "count  800.000000  800.000000   800.00000  \n",
       "mean    71.902500   68.277500     3.32375  \n",
       "std     27.828916   29.060474     1.66129  \n",
       "min     20.000000    5.000000     1.00000  \n",
       "25%     50.000000   45.000000     2.00000  \n",
       "50%     70.000000   65.000000     3.00000  \n",
       "75%     90.000000   90.000000     5.00000  \n",
       "max    230.000000  180.000000     6.00000  "
      ]
     },
     "execution_count": 2,
     "metadata": {},
     "output_type": "execute_result"
    }
   ],
   "source": [
    "import pandas as pd\n",
    "\n",
    "url = \"https://gist.githubusercontent.com/armgilles/194bcff35001e7eb53a2a8b441e8b2c6/raw/92200bc0a673d5ce2110aaad4544ed6c4010f687/pokemon.csv\"\n",
    "df = pd.read_csv(url)\n",
    "\n",
    "df.describe()\n"
   ]
  },
  {
   "cell_type": "code",
   "execution_count": 3,
   "metadata": {
    "colab": {
     "base_uri": "https://localhost:8080/"
    },
    "id": "TiKIRzIjxhgj",
    "outputId": "b1adeff1-69b3-4759-8a82-c486935d9d9c"
   },
   "outputs": [
    {
     "name": "stdout",
     "output_type": "stream",
     "text": [
      "[[1 2 3]\n",
      " [4 5 6]]\n",
      "\n",
      "-- arr.shape =  (2, 3)\n",
      "-- nro Filas =  2\n",
      "-- nro Columnas =  3\n",
      "-- nro de axis o ndim =  2\n"
     ]
    }
   ],
   "source": [
    "arr = np.array([[1,2,3],[4,5,6]])\n",
    "print(arr)\n",
    "\n",
    "# Dimensiones del array\n",
    "print(\"\\n-- arr.shape = \",arr.shape)\n",
    "\n",
    "n_filas, n_col = arr.shape\n",
    "\n",
    "print(\"-- nro Filas = \", n_filas)\n",
    "print(\"-- nro Columnas = \", n_col)\n",
    "print(\"-- nro de axis o ndim = \", arr.ndim)\n"
   ]
  },
  {
   "cell_type": "markdown",
   "metadata": {
    "id": "n6Ebp3T_0dL0"
   },
   "source": [
    "<img src=\"https://user-images.githubusercontent.com/7065401/52071927-c1cd7100-2562-11e9-908a-dde91ba14e59.png\" width = 600>\n",
    "\n",
    "### Cuidado con los arrays de shapes \"parecidos\".\n",
    "\n",
    "<img src=\"https://user-images.githubusercontent.com/7065401/52071927-c1cd7100-2562-11e9-908a-dde91ba14e59.png\" width = 600>"
   ]
  },
  {
   "cell_type": "code",
   "execution_count": 4,
   "metadata": {
    "colab": {
     "base_uri": "https://localhost:8080/"
    },
    "id": "sqj5MS8ltg8o",
    "outputId": "6ac0973a-bede-4b7d-e5ad-30ea1cdc413e"
   },
   "outputs": [
    {
     "name": "stdout",
     "output_type": "stream",
     "text": [
      "------------------------------------------------------------------------\n",
      "X =  [1 2 3 4 5]\n",
      "Y =  [[1]\n",
      " [2]\n",
      " [3]\n",
      " [4]\n",
      " [5]]\n",
      "Z =  [[1 2 3 4 5]]\n",
      "------------------------------------------------------------------------\n",
      "\n",
      "X.shape =  (5,)\n",
      "Y.shape =  (5, 1)\n",
      "Z.shape =  (1, 5)\n",
      "------------------------------------------------------------------------\n",
      "\n",
      "X.ndim =  1\n",
      "Y.ndim =  2\n",
      "Z.ndim =  2\n",
      "------------------------------------------------------------------------\n",
      "\n",
      "X.transpose() =  [1 2 3 4 5]\n",
      "\n",
      "Y.transpose() =  [[1 2 3 4 5]]\n",
      "\n",
      "Z.transpose() =  [[1]\n",
      " [2]\n",
      " [3]\n",
      " [4]\n",
      " [5]]\n",
      "------------------------------------------------------------------------\n",
      "X.size (cant. elementos) =  5\n",
      "Y.size (cant. elementos) =  5\n",
      "Z.size (cant. elementos) =  5\n"
     ]
    }
   ],
   "source": [
    "# Creamos dos array tipo Vector\n",
    "X = np.array([1,2,3,4,5])\n",
    "Y = np.array(([1,2,3,4,5])).reshape(-1,1)\n",
    "Z = np.array(([1,2,3,4,5])).reshape(1,-1)\n",
    "\n",
    "print(\"------------------------------------------------------------------------\")\n",
    "print(\"X = \", X)\n",
    "print(\"Y = \", Y)\n",
    "print(\"Z = \", Z)\n",
    "\n",
    "print(\"------------------------------------------------------------------------\")\n",
    "print(\"\\nX.shape = \", X.shape)\n",
    "print(\"Y.shape = \", Y.shape)\n",
    "print(\"Z.shape = \", Z.shape)\n",
    "\n",
    "print(\"------------------------------------------------------------------------\")\n",
    "print(\"\\nX.ndim = \", X.ndim)\n",
    "print(\"Y.ndim = \", Y.ndim)\n",
    "print(\"Z.ndim = \", Z.ndim)\n",
    "print(\"------------------------------------------------------------------------\")\n",
    "\n",
    "print(\"\\nX.transpose() = \", X.transpose())\n",
    "print(\"\\nY.transpose() = \", Y.transpose())\n",
    "print(\"\\nZ.transpose() = \", Z.transpose())\n",
    "print(\"------------------------------------------------------------------------\")\n",
    "print(\"X.size (cant. elementos) = \", X.size) # cantidad de elementos\n",
    "print(\"Y.size (cant. elementos) = \", Y.size) # cantidad de elementos\n",
    "print(\"Z.size (cant. elementos) = \", Z.size) # cantidad de elementos\n",
    "\n"
   ]
  },
  {
   "cell_type": "markdown",
   "metadata": {
    "id": "qO9TYgjk0ozj"
   },
   "source": [
    "<img src=\"https://user-images.githubusercontent.com/7065401/52071927-c1cd7100-2562-11e9-908a-dde91ba14e59.png\" width = 600>\n",
    "\n",
    "## Operaciones entre arrays\n",
    "\n",
    "### Cuidado con el broadcast de numpy!!\n",
    "\n",
    "<img src=\"https://user-images.githubusercontent.com/7065401/52071927-c1cd7100-2562-11e9-908a-dde91ba14e59.png\" width = 600>"
   ]
  },
  {
   "cell_type": "code",
   "execution_count": 5,
   "metadata": {
    "colab": {
     "base_uri": "https://localhost:8080/"
    },
    "id": "7fMGnU3-0tEq",
    "outputId": "dabeeac7-a1b9-4d04-f73e-3b34e1e730b3"
   },
   "outputs": [
    {
     "name": "stdout",
     "output_type": "stream",
     "text": [
      "------------------------------------------------------------------------\n",
      "X1 \n",
      "[[ 0  1  2  3]\n",
      " [ 4  5  6  7]\n",
      " [ 8  9 10 11]\n",
      " [12 13 14 15]\n",
      " [16 17 18 19]]\n",
      "------------------------------------------------------------------------\n",
      "X2\n",
      "[[10 11 12 13]\n",
      " [14 15 16 17]\n",
      " [18 19 20 21]\n",
      " [22 23 24 25]\n",
      " [26 27 28 29]]\n",
      "------------------------------------------------------------------------\n"
     ]
    }
   ],
   "source": [
    "# Vamos a crear dos array de 5 filas x 4 columnas\n",
    "X1 = np.arange(20).reshape(5, 4)\n",
    "X2 = np.arange(10, 30).reshape(5,4)\n",
    "print(\"------------------------------------------------------------------------\")\n",
    "print(\"X1 \")\n",
    "print(X1)\n",
    "print(\"------------------------------------------------------------------------\")\n",
    "print(\"X2\")\n",
    "print(X2)\n",
    "print(\"------------------------------------------------------------------------\")"
   ]
  },
  {
   "cell_type": "markdown",
   "metadata": {
    "id": "BFjYcj3x17Rd"
   },
   "source": [
    "<img src=\"https://user-images.githubusercontent.com/7065401/52071927-c1cd7100-2562-11e9-908a-dde91ba14e59.png\" width = 600>\n",
    "\n",
    "#### Suma entre arrays de las mismas dimensiones\n",
    "\n",
    "<img src=\"https://user-images.githubusercontent.com/7065401/52071927-c1cd7100-2562-11e9-908a-dde91ba14e59.png\" width = 600>"
   ]
  },
  {
   "cell_type": "code",
   "execution_count": 6,
   "metadata": {
    "colab": {
     "base_uri": "https://localhost:8080/"
    },
    "id": "yyWrzesS1sa9",
    "outputId": "f2441db3-1ad8-42a6-956b-2f9019d2218f"
   },
   "outputs": [
    {
     "name": "stdout",
     "output_type": "stream",
     "text": [
      "[[10 12 14 16]\n",
      " [18 20 22 24]\n",
      " [26 28 30 32]\n",
      " [34 36 38 40]\n",
      " [42 44 46 48]]\n"
     ]
    }
   ],
   "source": [
    "# Suma entre arrays con las mismas dimensiones\n",
    "X1_mas_X2 = X1 + X2\n",
    "\n",
    "print(X1_mas_X2)"
   ]
  },
  {
   "cell_type": "markdown",
   "metadata": {
    "id": "sfT3Eszd2D2b"
   },
   "source": [
    "<img src=\"https://user-images.githubusercontent.com/7065401/52071927-c1cd7100-2562-11e9-908a-dde91ba14e59.png\" width = 600>\n",
    "\n",
    "#### Suma entre array y escalar\n",
    "<img src=\"https://user-images.githubusercontent.com/7065401/52071927-c1cd7100-2562-11e9-908a-dde91ba14e59.png\" width = 600>"
   ]
  },
  {
   "cell_type": "code",
   "execution_count": 7,
   "metadata": {
    "colab": {
     "base_uri": "https://localhost:8080/"
    },
    "id": "u7EH4gu22LO7",
    "outputId": "cb46e26f-a032-4b06-cb9b-224e2124091c"
   },
   "outputs": [
    {
     "name": "stdout",
     "output_type": "stream",
     "text": [
      "X1\n",
      "[[ 0  1  2  3]\n",
      " [ 4  5  6  7]\n",
      " [ 8  9 10 11]\n",
      " [12 13 14 15]\n",
      " [16 17 18 19]]\n",
      "------------------------------------------------------------------------\n",
      "Le sumamos 100 a cada elemento\n",
      "[[100 101 102 103]\n",
      " [104 105 106 107]\n",
      " [108 109 110 111]\n",
      " [112 113 114 115]\n",
      " [116 117 118 119]]\n"
     ]
    }
   ],
   "source": [
    "print(\"X1\")\n",
    "print(X1)\n",
    "print(\"------------------------------------------------------------------------\")\n",
    "print(\"Le sumamos 100 a cada elemento\")\n",
    "print(X1 + 100)  # Broadcast"
   ]
  },
  {
   "cell_type": "markdown",
   "metadata": {
    "id": "AB2w8BJE2bLC"
   },
   "source": [
    "<img src=\"https://user-images.githubusercontent.com/7065401/52071927-c1cd7100-2562-11e9-908a-dde91ba14e59.png\" width = 600>\n",
    "\n",
    "#### Suma entre arrays de distintas dimensiones\n",
    "\n",
    "<img src=\"https://user-images.githubusercontent.com/7065401/52071927-c1cd7100-2562-11e9-908a-dde91ba14e59.png\" width = 600>"
   ]
  },
  {
   "cell_type": "code",
   "execution_count": 8,
   "metadata": {
    "colab": {
     "base_uri": "https://localhost:8080/"
    },
    "id": "FOno9HmW07-r",
    "outputId": "07414a8b-c578-496c-b6e7-8d9323e89600"
   },
   "outputs": [
    {
     "name": "stdout",
     "output_type": "stream",
     "text": [
      "X1.shape =  (5, 4)\n",
      "X1\n",
      "[[ 0  1  2  3]\n",
      " [ 4  5  6  7]\n",
      " [ 8  9 10 11]\n",
      " [12 13 14 15]\n",
      " [16 17 18 19]]\n",
      "-----------------------------------------------------------------------\n",
      "Y.shape =  (4,)\n",
      "Y\n",
      "[6 7 1 8]\n",
      "-----------------------------------------------------------------------\n"
     ]
    }
   ],
   "source": [
    "Y = np.random.randint(20,size=4)\n",
    "Z = np.random.randint(20,size=5)\n",
    "\n",
    "print(\"X1.shape = \", X1.shape)\n",
    "print(\"X1\")\n",
    "print(X1)\n",
    "\n",
    "print(\"-----------------------------------------------------------------------\")\n",
    "print(\"Y.shape = \", Y.shape)\n",
    "print(\"Y\")\n",
    "print(Y)\n",
    "\n",
    "print(\"-----------------------------------------------------------------------\")\n",
    "\n",
    "\n",
    "# Esto explota!!!\n",
    "# print(\"X1+Y\")\n",
    "# print(X1+Z)\n"
   ]
  },
  {
   "cell_type": "markdown",
   "metadata": {
    "id": "sLx5fyLY4ziz"
   },
   "source": [
    "<img src=\"https://user-images.githubusercontent.com/7065401/52071927-c1cd7100-2562-11e9-908a-dde91ba14e59.png\" width = 600>\n",
    "\n",
    "## Suma de los elementos de un array\n",
    "\n",
    "<img src=\"https://user-images.githubusercontent.com/7065401/52071927-c1cd7100-2562-11e9-908a-dde91ba14e59.png\" width = 600>"
   ]
  },
  {
   "cell_type": "code",
   "execution_count": 9,
   "metadata": {
    "colab": {
     "base_uri": "https://localhost:8080/"
    },
    "id": "Lc4uBLRn1Pfz",
    "outputId": "7cc00ea9-c666-43f9-9c01-308d8107967a"
   },
   "outputs": [
    {
     "name": "stdout",
     "output_type": "stream",
     "text": [
      "[[38 29 38 22 31]\n",
      " [41 17 26 32 14]\n",
      " [12 33 39 44 12]]\n",
      "\n",
      "suma_all =  428\n",
      "Suma por filas =  [158 130 140]\n",
      "Suma por columnas =  [ 91  79 103  98  57]\n"
     ]
    }
   ],
   "source": [
    "arr = np.random.randint(10, 50, size=(3, 5))\n",
    "\n",
    "print(arr)\n",
    "\n",
    "# suma de todos los elementos\n",
    "\n",
    "suma_all = arr.sum()\n",
    "print(\"\\nsuma_all = \", suma_all)\n",
    "\n",
    "# Suma los elementos de una fila\n",
    "suma_por_fila = arr.sum(axis=1)\n",
    "print(\"Suma por filas = \", suma_por_fila)\n",
    "\n",
    "# Suma por columnas\n",
    "suma_por_col = arr.sum(axis=0)\n",
    "print(\"Suma por columnas = \", suma_por_col)"
   ]
  },
  {
   "cell_type": "markdown",
   "metadata": {
    "id": "8wCtJ_gN54mc"
   },
   "source": [
    "<img src=\"https://user-images.githubusercontent.com/7065401/52071927-c1cd7100-2562-11e9-908a-dde91ba14e59.png\" width = 600>\n",
    "\n",
    "### Valor medio de los elementos de un array\n",
    "\n",
    "<img src=\"https://user-images.githubusercontent.com/7065401/52071927-c1cd7100-2562-11e9-908a-dde91ba14e59.png\" width = 600>"
   ]
  },
  {
   "cell_type": "code",
   "execution_count": 10,
   "metadata": {
    "colab": {
     "base_uri": "https://localhost:8080/"
    },
    "id": "hhdyh4-s6ADd",
    "outputId": "9d3451df-8099-4bfd-a484-f86540d57e19"
   },
   "outputs": [
    {
     "name": "stdout",
     "output_type": "stream",
     "text": [
      "[[41 29 19 35 10]\n",
      " [41 21 32 38 36]\n",
      " [32 45 32 19 22]]\n",
      "\n",
      "media_all =  30.133333333333333\n",
      "Media por filas =  [26.8 33.6 30. ]\n",
      "Media por columnas =  [38.   31.67 27.67 30.67 22.67]\n"
     ]
    }
   ],
   "source": [
    "np.set_printoptions(precision=2)\n",
    "\n",
    "arr = np.random.randint(10, 50, size=(3, 5))\n",
    "\n",
    "\n",
    "print(arr)\n",
    "\n",
    "# media de todos los elementos\n",
    "\n",
    "media_all = arr.mean()\n",
    "print(\"\\nmedia_all = \", media_all)\n",
    "\n",
    "# media los elementos de una fila\n",
    "media_por_fila = arr.mean(axis=1)\n",
    "print(\"Media por filas = \", media_por_fila)\n",
    "\n",
    "# Media por columnas\n",
    "media_por_col = arr.mean(axis=0)\n",
    "print(\"Media por columnas = \", media_por_col)"
   ]
  },
  {
   "cell_type": "markdown",
   "metadata": {
    "id": "Z1EF3ImL6pPz"
   },
   "source": [
    "<img src=\"https://user-images.githubusercontent.com/7065401/52071927-c1cd7100-2562-11e9-908a-dde91ba14e59.png\" width = 600>\n",
    "\n",
    "\n",
    "## Indice del valor mayor o del menor (argmax, argmin)\n",
    "\n",
    "Imaginemos que tenemos un array que representa:\n",
    "* filas: Un ensayo de un experimento\n",
    "* Columna:  La probabilidad de ocurrencia de un suceso\n",
    "\n",
    "Deseamos saber cual es, en cada ensayo, el suceso con mayor o con menor probabilidad.\n",
    "\n",
    "<img src=\"https://user-images.githubusercontent.com/7065401/52071927-c1cd7100-2562-11e9-908a-dde91ba14e59.png\" width = 600>"
   ]
  },
  {
   "cell_type": "code",
   "execution_count": 11,
   "metadata": {
    "colab": {
     "base_uri": "https://localhost:8080/"
    },
    "id": "AohV33kQ6tO5",
    "outputId": "047b6451-0dda-4b4c-f21b-bcb3952e49cc"
   },
   "outputs": [
    {
     "name": "stdout",
     "output_type": "stream",
     "text": [
      "  S1   S2    S3\n",
      "[[0.2  0.3  0.5 ]\n",
      " [0.6  0.1  0.3 ]\n",
      " [0.8  0.15 0.05]\n",
      " [0.15 0.45 0.4 ]]\n",
      "-----------------------------------------------------------------------\n",
      "Probabilidad minima\n",
      "['S1', 'S2', 'S3', 'S1']\n",
      "-----------------------------------------------------------------------\n",
      "Probabilidad maxima\n",
      "['S3', 'S1', 'S1', 'S2']\n"
     ]
    }
   ],
   "source": [
    "X = np.array([[0.2, 0.3,  0.5],\n",
    "     [0.6, 0.1, 0.3],\n",
    "     [0.8, 0.15, 0.05],\n",
    "     [0.15, 0.45, 0.4]])\n",
    "\n",
    "max_prob = np.argmax(X, axis=1)\n",
    "min_prob = np.argmin(X, axis=1)\n",
    "\n",
    "my_dict = {\n",
    "    0: 'S1',\n",
    "    1: 'S2',\n",
    "    2: 'S3'\n",
    "}\n",
    "\n",
    "max_prob_cat = [my_dict[k] for k in max_prob]\n",
    "min_prob_cat = [my_dict[k] for k in min_prob] # Comprehension list\n",
    "\n",
    "print(\"  S1   S2    S3\")\n",
    "print(X)\n",
    "print(\"-----------------------------------------------------------------------\")\n",
    "print(\"Probabilidad minima\")\n",
    "print(min_prob_cat)\n",
    "print(\"-----------------------------------------------------------------------\")\n",
    "print(\"Probabilidad maxima\")\n",
    "print(max_prob_cat)"
   ]
  },
  {
   "cell_type": "markdown",
   "metadata": {
    "id": "ro0YCaQr88F0"
   },
   "source": [
    "<img src=\"https://user-images.githubusercontent.com/7065401/52071927-c1cd7100-2562-11e9-908a-dde91ba14e59.png\" width = 600>\n",
    "\n",
    "## Distancia Euclidiana entre dos puntos\n",
    "\n",
    "<img src=\"https://user-images.githubusercontent.com/7065401/52071927-c1cd7100-2562-11e9-908a-dde91ba14e59.png\" width = 600>"
   ]
  },
  {
   "cell_type": "code",
   "execution_count": 12,
   "metadata": {
    "colab": {
     "base_uri": "https://localhost:8080/"
    },
    "id": "1R23AAOa9CfF",
    "outputId": "c89bf9d4-a50f-4685-c92b-7848764954c5"
   },
   "outputs": [
    {
     "name": "stdout",
     "output_type": "stream",
     "text": [
      "distancia eucl =  8.660254037844387\n",
      "distancia eucl =  8.660254037844387\n"
     ]
    }
   ],
   "source": [
    "\n",
    "def dist_euclidea(x1,x2):\n",
    "    return np.sqrt(np.sum((x1-x2)**2))\n",
    "\n",
    "def dist_euclidea_v2(x1, x2):\n",
    "    return np.linalg.norm(x1-x2)\n",
    "\n",
    "x1 = np.array([2,3,4])\n",
    "x2 = np.array([7,8,9])\n",
    "\n",
    "\n",
    "print(\"distancia eucl = \", dist_euclidea(x1,x2))\n",
    "print(\"distancia eucl = \", dist_euclidea_v2(x1,x2))\n"
   ]
  },
  {
   "cell_type": "markdown",
   "metadata": {
    "id": "5xm30swA-Czk"
   },
   "source": [
    "<img src=\"https://user-images.githubusercontent.com/7065401/52071927-c1cd7100-2562-11e9-908a-dde91ba14e59.png\" width = 600>\n",
    "\n",
    "## Distancia Euclidiana todos los elementos de un array y un punto\n",
    "\n",
    "<img src=\"https://user-images.githubusercontent.com/7065401/52071927-c1cd7100-2562-11e9-908a-dde91ba14e59.png\" width = 600>"
   ]
  },
  {
   "cell_type": "code",
   "execution_count": 13,
   "metadata": {
    "colab": {
     "base_uri": "https://localhost:8080/"
    },
    "id": "wP4WTGZk-KwT",
    "outputId": "dd0e41ca-4ac1-4f80-b0c8-0596f25cb927"
   },
   "outputs": [
    {
     "name": "stdout",
     "output_type": "stream",
     "text": [
      "distancia eucl =  [8.66 8.66 8.66]\n",
      "distancia eucl =  [8.66 8.66 8.66]\n"
     ]
    }
   ],
   "source": [
    "\n",
    "def dist_euclidea_arr(arr,x2):\n",
    "    \"\"\"\n",
    "        arr.shape = (n_datos, n_dim)\n",
    "        x2.shape = (n_dim,)\n",
    "    \"\"\"\n",
    "    dista = []\n",
    "    for i in range(arr.shape[0]):\n",
    "        dista.append(np.sqrt(np.sum((arr[i]-x2)**2)))\n",
    "    return np.array(dista)\n",
    "\n",
    "def dist_euclidea_arr_v2(arr, x2):\n",
    "    dista = []\n",
    "    for i in range(arr.shape[0]):\n",
    "        dista.append(np.linalg.norm(arr[i]-x2))\n",
    "    \n",
    "    return np.array(dista)\n",
    "    \n",
    "\n",
    "arr= np.array([[2,3,4], [2,3,4], [2,3,4]])\n",
    "x2 = np.array([7,8,9])\n",
    "\n",
    "\n",
    "print(\"distancia eucl = \", dist_euclidea_arr(arr,x2))\n",
    "print(\"distancia eucl = \", dist_euclidea_arr_v2(arr,x2))"
   ]
  },
  {
   "cell_type": "code",
   "execution_count": 14,
   "metadata": {
    "id": "E5RfHsFSjh7U"
   },
   "outputs": [],
   "source": [
    "def func():\n",
    "    return 2, 3, 5, \"perro\"\n",
    "\n",
    "a, b, c, d  = func()"
   ]
  },
  {
   "cell_type": "markdown",
   "metadata": {
    "id": "H0l8c0NfABq0"
   },
   "source": [
    "<img src=\"https://user-images.githubusercontent.com/7065401/52071927-c1cd7100-2562-11e9-908a-dde91ba14e59.png\" width = 600>\n",
    "\n",
    "# Matplotlib: Para data visualization\n",
    "\n",
    "<img src=\"https://user-images.githubusercontent.com/7065401/52071927-c1cd7100-2562-11e9-908a-dde91ba14e59.png\" width = 600>"
   ]
  },
  {
   "cell_type": "code",
   "execution_count": 15,
   "metadata": {
    "colab": {
     "base_uri": "https://localhost:8080/",
     "height": 545
    },
    "id": "5YuHQTQ9ANjM",
    "outputId": "06112453-e73b-46e6-b850-6c68641d3c49"
   },
   "outputs": [
    {
     "data": {
      "image/png": "[encoded data removed]",
      "text/plain": [
       "<Figure size 640x480 with 1 Axes>"
      ]
     },
     "metadata": {},
     "output_type": "display_data"
    },
    {
     "data": {
      "image/png": "[encoded data removed]",
      "text/plain": [
       "<Figure size 640x480 with 1 Axes>"
      ]
     },
     "metadata": {},
     "output_type": "display_data"
    }
   ],
   "source": [
    "import numpy as np\n",
    "import matplotlib.pyplot as plt\n",
    "\n",
    "\n",
    "X = np.linspace(0,10,50)\n",
    "\n",
    "Y = np.array([x**2 + 2*x for x in X])\n",
    "\n",
    "\n",
    "plt.figure()\n",
    "plt.plot(X, Y)\n",
    "plt.title(\"Grafico unido \")\n",
    "plt.show()\n",
    "\n",
    "plt.figure()\n",
    "plt.plot(X, Y, '.k')\n",
    "plt.title\n",
    "plt.title(\"Grafico con puntitos\")\n",
    "plt.grid()\n",
    "\n"
   ]
  },
  {
   "cell_type": "code",
   "execution_count": 16,
   "metadata": {
    "colab": {
     "base_uri": "https://localhost:8080/",
     "height": 531
    },
    "id": "qBJE81IjE4IW",
    "outputId": "78486224-f38f-4fbc-c167-b665ded3e7be"
   },
   "outputs": [
    {
     "data": {
      "text/plain": [
       "<matplotlib.colorbar.Colorbar at 0x28457259890>"
      ]
     },
     "execution_count": 16,
     "metadata": {},
     "output_type": "execute_result"
    },
    {
     "data": {
      "image/png": "[encoded data removed]",
      "text/plain": [
       "<Figure size 640x480 with 1 Axes>"
      ]
     },
     "metadata": {},
     "output_type": "display_data"
    },
    {
     "data": {
      "image/png": "[encoded data removed]",
      "text/plain": [
       "<Figure size 640x480 with 2 Axes>"
      ]
     },
     "metadata": {},
     "output_type": "display_data"
    }
   ],
   "source": [
    "X = np.random.randint(0,50,20)\n",
    "Y = np.random.randint(30,70,20)\n",
    "\n",
    "plt.scatter(X,Y, marker=\"s\", s=500)\n",
    "\n",
    "\n",
    "\n",
    "plt.figure()\n",
    "plt.scatter(X,Y, marker=\"s\", s=100, c=Y, cmap=\"RdPu\")\n",
    "plt.colorbar()\n"
   ]
  }
 ],
 "metadata": {
  "colab": {
   "authorship_tag": "ABX9TyOg5ejsW0k03rgLPiNvYI+/",
   "include_colab_link": true,
   "name": "Inteligencia_Artificial_Intro_Librerias.ipynb",
   "provenance": []
  },
  "kernelspec": {
   "display_name": "Python 3 (ipykernel)",
   "language": "python",
   "name": "python3"
  },
  "language_info": {
   "codemirror_mode": {
    "name": "ipython",
    "version": 3
   },
   "file_extension": ".py",
   "mimetype": "text/x-python",
   "name": "python",
   "nbconvert_exporter": "python",
   "pygments_lexer": "ipython3",
   "version": "3.11.4"
  }
 },
 "nbformat": 4,
 "nbformat_minor": 1
}
